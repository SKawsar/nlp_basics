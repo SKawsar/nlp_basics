{
 "cells": [
  {
   "cell_type": "markdown",
   "source": [
    "# What is tokenization?\n",
    "- Turning a string or document into tokens (smaller chunks)\n",
    "- One step in preparing a text for NLP\n",
    "<br>Some examples:\n",
    "- Tokenize a document into sentences: **sent_tokenize**\n",
    "- Tokenize a sentence into words and punctuations: **word_tokenize**\n",
    "- Separating punctuation\n",
    "- tokenize a string or document based on a regular expression pattern: **regexp_tokenize**\n",
    "- Separating all hashtags in a tweet, mentions and lots of exclamation points!!!: **TweetTokenizer**\n"
   ],
   "metadata": {
    "collapsed": false,
    "pycharm": {
     "name": "#%% md\n"
    }
   }
  },
  {
   "cell_type": "code",
   "execution_count": 219,
   "outputs": [],
   "source": [
    "# How to install NLTK: https://www.nltk.org/install.html\n",
    "# nltk.download('punkt')"
   ],
   "metadata": {
    "collapsed": false,
    "pycharm": {
     "name": "#%%\n"
    }
   }
  },
  {
   "cell_type": "code",
   "execution_count": 220,
   "outputs": [],
   "source": [
    "# https://www.nltk.org/api/nltk.tokenize.html\n",
    "# https://www.nltk.org/api/nltk.tokenize.casual.html\n",
    "from nltk.tokenize import word_tokenize, sent_tokenize, regexp_tokenize, TweetTokenizer\n",
    "\n",
    "import numpy as np\n",
    "import matplotlib.pyplot as plt\n",
    "\n",
    "from collections import Counter"
   ],
   "metadata": {
    "collapsed": false,
    "pycharm": {
     "name": "#%%\n"
    }
   }
  },
  {
   "cell_type": "markdown",
   "source": [
    "# Why tokenize?\n",
    "- Easier to map part of speech\n",
    "- Matching common words\n",
    "- Removing unwanted tokens\n",
    "\n"
   ],
   "metadata": {
    "collapsed": false,
    "pycharm": {
     "name": "#%% md\n"
    }
   }
  },
  {
   "cell_type": "code",
   "execution_count": 221,
   "outputs": [],
   "source": [
    "imdb_storyline = \"This is the tale of Harry Potter (Daniel Radcliffe), an ordinary eleven-year-old boy serving as a sort of slave for his aunt and uncle who learns that he is actually a wizard and has been invited to attend the Hogwarts School for Witchcraft and Wizardry. Harry is snatched away from his mundane existence by Rubeus Hagrid (Robbie Coltrane), the groundskeeper for Hogwarts, and quickly thrown into a world completely foreign to both him and the viewer. Famous for an incident that happened at his birth, Harry makes friends easily at his new school. He soon finds, however, that the wizarding world is far more dangerous for him than he would have imagined, and he quickly learns that not all wizards are ones to be trusted.\"\n",
    "\n",
    "# source: https://www.imdb.com/title/tt0241527/"
   ],
   "metadata": {
    "collapsed": false,
    "pycharm": {
     "name": "#%%\n"
    }
   }
  },
  {
   "cell_type": "code",
   "execution_count": 222,
   "outputs": [
    {
     "name": "stdout",
     "output_type": "stream",
     "text": [
      "['This is the tale of Harry Potter (Daniel Radcliffe), an ordinary eleven-year-old boy serving as a sort of slave for his aunt and uncle who learns that he is actually a wizard and has been invited to attend the Hogwarts School for Witchcraft and Wizardry.', 'Harry is snatched away from his mundane existence by Rubeus Hagrid (Robbie Coltrane), the groundskeeper for Hogwarts, and quickly thrown into a world completely foreign to both him and the viewer.', 'Famous for an incident that happened at his birth, Harry makes friends easily at his new school.', 'He soon finds, however, that the wizarding world is far more dangerous for him than he would have imagined, and he quickly learns that not all wizards are ones to be trusted.']\n",
      "length of the storyline =  4\n"
     ]
    }
   ],
   "source": [
    "# Split imdb_storyline into sentences: sentences\n",
    "sentence_tokens = sent_tokenize(imdb_storyline)\n",
    "print(sentence_tokens)\n",
    "print(\"length of the storyline = \", len(sentence_tokens))"
   ],
   "metadata": {
    "collapsed": false,
    "pycharm": {
     "name": "#%%\n"
    }
   }
  },
  {
   "cell_type": "code",
   "execution_count": 223,
   "outputs": [
    {
     "name": "stdout",
     "output_type": "stream",
     "text": [
      "sentence 1:  This is the tale of Harry Potter (Daniel Radcliffe), an ordinary eleven-year-old boy serving as a sort of slave for his aunt and uncle who learns that he is actually a wizard and has been invited to attend the Hogwarts School for Witchcraft and Wizardry.\n",
      "sentence 2:  Harry is snatched away from his mundane existence by Rubeus Hagrid (Robbie Coltrane), the groundskeeper for Hogwarts, and quickly thrown into a world completely foreign to both him and the viewer.\n",
      "sentence 3:  Famous for an incident that happened at his birth, Harry makes friends easily at his new school.\n",
      "sentence 4:  He soon finds, however, that the wizarding world is far more dangerous for him than he would have imagined, and he quickly learns that not all wizards are ones to be trusted.\n"
     ]
    }
   ],
   "source": [
    "print(\"sentence 1: \", sentence_tokens[0])\n",
    "print(\"sentence 2: \", sentence_tokens[1])\n",
    "print(\"sentence 3: \", sentence_tokens[2])\n",
    "print(\"sentence 4: \", sentence_tokens[3])"
   ],
   "metadata": {
    "collapsed": false,
    "pycharm": {
     "name": "#%%\n"
    }
   }
  },
  {
   "cell_type": "code",
   "execution_count": 224,
   "outputs": [
    {
     "name": "stdout",
     "output_type": "stream",
     "text": [
      "['He', 'soon', 'finds', ',', 'however', ',', 'that', 'the', 'wizarding', 'world', 'is', 'far', 'more', 'dangerous', 'for', 'him', 'than', 'he', 'would', 'have', 'imagined', ',', 'and', 'he', 'quickly', 'learns', 'that', 'not', 'all', 'wizards', 'are', 'ones', 'to', 'be', 'trusted', '.']\n",
      "no of tokens =  36\n"
     ]
    }
   ],
   "source": [
    "# Use word_tokenize to tokenize a sentence\n",
    "word_tokens = word_tokenize(sentence_tokens[3])\n",
    "print(word_tokens)\n",
    "print(\"no of tokens = \", len(word_tokens))"
   ],
   "metadata": {
    "collapsed": false,
    "pycharm": {
     "name": "#%%\n"
    }
   }
  },
  {
   "cell_type": "code",
   "execution_count": 225,
   "outputs": [
    {
     "name": "stdout",
     "output_type": "stream",
     "text": [
      "{'world', 'he', 'wizarding', 'dangerous', '.', 'ones', 'have', 'quickly', 'is', 'soon', 'would', 'far', 'be', 'learns', 'however', 'and', 'finds', 'wizards', 'than', 'are', 'for', 'more', 'imagined', 'all', 'to', 'that', 'the', 'He', ',', 'not', 'him', 'trusted'}\n",
      "no of unique tokens =  32\n"
     ]
    }
   ],
   "source": [
    "# Make a set of unique tokens in a sentence\n",
    "unique_tokens = set(word_tokenize(sentence_tokens[3]))\n",
    "\n",
    "# Print the unique tokens result\n",
    "print(unique_tokens)\n",
    "print(\"no of unique tokens = \", len(unique_tokens))"
   ],
   "metadata": {
    "collapsed": false,
    "pycharm": {
     "name": "#%%\n"
    }
   }
  },
  {
   "cell_type": "code",
   "execution_count": 226,
   "outputs": [
    {
     "name": "stdout",
     "output_type": "stream",
     "text": [
      "{',', 'he', 'that'}\n"
     ]
    }
   ],
   "source": [
    "# How to find the duplicate values in a list?\n",
    "duplicate_tokens = set([x for x in word_tokens if word_tokens.count(x) >= 2])\n",
    "print(duplicate_tokens)"
   ],
   "metadata": {
    "collapsed": false,
    "pycharm": {
     "name": "#%%\n"
    }
   }
  },
  {
   "cell_type": "code",
   "execution_count": 227,
   "outputs": [
    {
     "name": "stdout",
     "output_type": "stream",
     "text": [
      "['He', 'soon', 'finds', 'however', 'that', 'the', 'wizarding', 'world', 'is', 'far', 'more', 'dangerous', 'for', 'him', 'than', 'he', 'would', 'have', 'imagined', 'and', 'he', 'quickly', 'learns', 'that', 'not', 'all', 'wizards', 'are', 'ones', 'to', 'be', 'trusted']\n",
      "32\n"
     ]
    }
   ],
   "source": [
    "# Use regexp_tokenize to tokenize a sentence\n",
    "words = regexp_tokenize(sentence_tokens[3], r\"\\w+\")\n",
    "print(words)\n",
    "print(len(words))"
   ],
   "metadata": {
    "collapsed": false,
    "pycharm": {
     "name": "#%%\n"
    }
   }
  },
  {
   "cell_type": "code",
   "execution_count": 228,
   "outputs": [
    {
     "name": "stdout",
     "output_type": "stream",
     "text": [
      "['He', 'soon', 'finds', ',', 'however', ',', 'that', 'the', 'wizarding', 'world', 'is', 'far', 'more', 'dangerous', 'for', 'him', 'than', 'he', 'would', 'have', 'imagined', ',', 'and', 'he', 'quickly', 'learns', 'that', 'not', 'all', 'wizards', 'are', 'ones', 'to', 'be', 'trusted', '.']\n",
      "36\n"
     ]
    }
   ],
   "source": [
    "# Use regexp_tokenize to tokenize a sentence\n",
    "# include comma and period\n",
    "words_ = regexp_tokenize(sentence_tokens[3], r\"\\w+|\\,|\\.\")\n",
    "print(words_)\n",
    "print(len(words_))"
   ],
   "metadata": {
    "collapsed": false,
    "pycharm": {
     "name": "#%%\n"
    }
   }
  },
  {
   "cell_type": "code",
   "execution_count": 229,
   "outputs": [
    {
     "name": "stdout",
     "output_type": "stream",
     "text": [
      "['@DataCamp', '#python', '#datascience', '#machinelearning', '#sql', '#dataanalysis', '#tableau', '#powerbi', '#statistics']\n"
     ]
    }
   ],
   "source": [
    "tweet = \"It's a game of patience, consistent learning, and regular practice. I have been learning from @DataCamp since 2018. I believe that Daily 1-hour practice brings exponential growth. #python #datascience #machinelearning #sql #dataanalysis #tableau #powerbi #statistics\"\n",
    "\n",
    "mentions_hashtags = regexp_tokenize(tweet, r\"([@#]\\w+)\")\n",
    "print(mentions_hashtags)"
   ],
   "metadata": {
    "collapsed": false,
    "pycharm": {
     "name": "#%%\n"
    }
   }
  },
  {
   "cell_type": "code",
   "execution_count": 230,
   "outputs": [
    {
     "name": "stdout",
     "output_type": "stream",
     "text": [
      "[\"It's\", 'a', 'game', 'of', 'patience', ',', 'consistent', 'learning', ',', 'and', 'regular', 'practice', '.', 'I', 'have', 'been', 'learning', 'from', '@DataCamp', 'since', '2018', '.', 'I', 'believe', 'that', 'Daily', '1', '-', 'hour', 'practice', 'brings', 'exponential', 'growth', '.', '#python', '#datascience', '#machinelearning', '#sql', '#dataanalysis', '#tableau', '#powerbi', '#statistics']\n"
     ]
    }
   ],
   "source": [
    "tokenizer = TweetTokenizer()\n",
    "tweet_tokens = tokenizer.tokenize(tweet)\n",
    "print(tweet_tokens)"
   ],
   "metadata": {
    "collapsed": false,
    "pycharm": {
     "name": "#%%\n"
    }
   }
  },
  {
   "cell_type": "code",
   "execution_count": 231,
   "outputs": [
    {
     "name": "stdout",
     "output_type": "stream",
     "text": [
      "['It', \"'s\", 'a', 'game', 'of', 'patience', ',', 'consistent', 'learning', ',', 'and', 'regular', 'practice', '.', 'I', 'have', 'been', 'learning', 'from', '@', 'DataCamp', 'since', '2018', '.', 'I', 'believe', 'that', 'Daily', '1-hour', 'practice', 'brings', 'exponential', 'growth', '.', '#', 'python', '#', 'datascience', '#', 'machinelearning', '#', 'sql', '#', 'dataanalysis', '#', 'tableau', '#', 'powerbi', '#', 'statistics']\n"
     ]
    }
   ],
   "source": [
    "tweet_word_tokens = word_tokenize(tweet)\n",
    "print(tweet_word_tokens)"
   ],
   "metadata": {
    "collapsed": false,
    "pycharm": {
     "name": "#%%\n"
    }
   }
  },
  {
   "cell_type": "code",
   "execution_count": 232,
   "outputs": [
    {
     "name": "stdout",
     "output_type": "stream",
     "text": [
      "[2, 2, 1, 4, 2, 8, 1, 10, 8, 1, 3, 7, 8, 1, 1, 4, 4, 8, 4, 1, 8, 5, 4, 1, 1, 7, 4, 5, 6, 8, 6, 11, 6, 1, 1, 6, 1, 11, 1, 15, 1, 3, 1, 12, 1, 7, 1, 7, 1, 10]\n"
     ]
    },
    {
     "data": {
      "text/plain": "<Figure size 432x288 with 1 Axes>",
      "image/png": "[encoded data removed]"
     },
     "metadata": {
      "needs_background": "light"
     },
     "output_type": "display_data"
    }
   ],
   "source": [
    "word_lengths = [len(w) for w in tweet_word_tokens]\n",
    "print(word_lengths)\n",
    "plt.hist(word_lengths)\n",
    "plt.xlabel(\"Word Length\")\n",
    "plt.ylabel(\"Word Count\")\n",
    "plt.xticks(np.arange(1,16,1))\n",
    "plt.yticks(np.arange(0,22,2))\n",
    "plt.show()"
   ],
   "metadata": {
    "collapsed": false,
    "pycharm": {
     "name": "#%%\n"
    }
   }
  },
  {
   "cell_type": "code",
   "execution_count": 239,
   "outputs": [
    {
     "name": "stdout",
     "output_type": "stream",
     "text": [
      "Counter({',': 7, 'and': 6, 'the': 5, 'for': 5, 'is': 4, 'his': 4, 'that': 4, '.': 4, 'Harry': 3, 'a': 3, 'he': 3, 'to': 3, 'of': 2, '(': 2, ')': 2, 'an': 2, 'learns': 2, 'Hogwarts': 2, 'quickly': 2, 'world': 2, 'him': 2, 'at': 2, 'This': 1, 'tale': 1, 'Potter': 1, 'Daniel': 1, 'Radcliffe': 1, 'ordinary': 1, 'eleven-year-old': 1, 'boy': 1, 'serving': 1, 'as': 1, 'sort': 1, 'slave': 1, 'aunt': 1, 'uncle': 1, 'who': 1, 'actually': 1, 'wizard': 1, 'has': 1, 'been': 1, 'invited': 1, 'attend': 1, 'School': 1, 'Witchcraft': 1, 'Wizardry': 1, 'snatched': 1, 'away': 1, 'from': 1, 'mundane': 1, 'existence': 1, 'by': 1, 'Rubeus': 1, 'Hagrid': 1, 'Robbie': 1, 'Coltrane': 1, 'groundskeeper': 1, 'thrown': 1, 'into': 1, 'completely': 1, 'foreign': 1, 'both': 1, 'viewer': 1, 'Famous': 1, 'incident': 1, 'happened': 1, 'birth': 1, 'makes': 1, 'friends': 1, 'easily': 1, 'new': 1, 'school': 1, 'He': 1, 'soon': 1, 'finds': 1, 'however': 1, 'wizarding': 1, 'far': 1, 'more': 1, 'dangerous': 1, 'than': 1, 'would': 1, 'have': 1, 'imagined': 1, 'not': 1, 'all': 1, 'wizards': 1, 'are': 1, 'ones': 1, 'be': 1, 'trusted': 1})\n"
     ]
    }
   ],
   "source": [
    "count = Counter(word_tokenize(imdb_storyline))\n",
    "print(count)"
   ],
   "metadata": {
    "collapsed": false,
    "pycharm": {
     "name": "#%%\n"
    }
   }
  },
  {
   "cell_type": "code",
   "execution_count": 240,
   "outputs": [
    {
     "data": {
      "text/plain": "[(',', 7), ('and', 6), ('the', 5), ('for', 5), ('is', 4)]"
     },
     "execution_count": 240,
     "metadata": {},
     "output_type": "execute_result"
    }
   ],
   "source": [
    "count.most_common(5)"
   ],
   "metadata": {
    "collapsed": false,
    "pycharm": {
     "name": "#%%\n"
    }
   }
  },
  {
   "cell_type": "code",
   "execution_count": null,
   "outputs": [],
   "source": [],
   "metadata": {
    "collapsed": false,
    "pycharm": {
     "name": "#%%\n"
    }
   }
  }
 ],
 "metadata": {
  "kernelspec": {
   "display_name": "Python 3",
   "language": "python",
   "name": "python3"
  },
  "language_info": {
   "codemirror_mode": {
    "name": "ipython",
    "version": 2
   },
   "file_extension": ".py",
   "mimetype": "text/x-python",
   "name": "python",
   "nbconvert_exporter": "python",
   "pygments_lexer": "ipython2",
   "version": "2.7.6"
  }
 },
 "nbformat": 4,
 "nbformat_minor": 0
}